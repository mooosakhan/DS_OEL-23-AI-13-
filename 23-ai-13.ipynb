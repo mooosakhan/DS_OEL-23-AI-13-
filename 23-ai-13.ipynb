{
  "cells": [
    {
      "cell_type": "code",
      "source": [
        "def palindrome(s):\n",
        "    # Create a dict to check how many times any char appear\n",
        "    charCount = {}\n",
        "\n",
        "    # Loop each character in the string and count its presence\n",
        "    for i in s:\n",
        "        if i in charCount:\n",
        "            charCount[i] += 1\n",
        "        else:\n",
        "            charCount[i] = 1\n",
        "    # initialize the length to save the palindrome length\n",
        "    pdLength = 0\n",
        "    isOdd = False  # Flag\n",
        "\n",
        "    # Go through the character counts to calculate how much we can add to the palindrome\n",
        "\n",
        "    for j in charCount.values():\n",
        "        if j % 2 == 0:\n",
        "            pdLength += j\n",
        "        else:\n",
        "            isOdd = True\n",
        "            pdLength += j - 1\n",
        "\n",
        "    # If there's any odd count, we can place exactly one odd character in the center\n",
        "\n",
        "    if isOdd:\n",
        "\n",
        "        pdLength += 1\n",
        "\n",
        "    print(pdLength)\n",
        "\n",
        "\n",
        "s = \"abccccdd\"\n",
        "palindrome(s)\n",
        "\n"
      ],
      "metadata": {
        "id": "GkZoHhDZps3v",
        "outputId": "2d1df2c3-3915-42ce-fe15-b22953d02fa7",
        "colab": {
          "base_uri": "https://localhost:8080/"
        }
      },
      "execution_count": 1,
      "outputs": [
        {
          "output_type": "stream",
          "name": "stdout",
          "text": [
            "7\n"
          ]
        }
      ]
    }
  ],
  "metadata": {
    "colab": {
      "name": "Welcome To Colab",
      "toc_visible": true,
      "provenance": []
    },
    "kernelspec": {
      "display_name": "Python 3",
      "name": "python3"
    }
  },
  "nbformat": 4,
  "nbformat_minor": 0
}